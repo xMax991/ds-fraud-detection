{
 "cells": [
  {
   "cell_type": "markdown",
   "id": "9283ebb7",
   "metadata": {},
   "source": [
    "# Model XYZ\n",
    " Using aggregated invoice data\n",
    "\n",
    "Summary here..."
   ]
  },
  {
   "cell_type": "code",
   "execution_count": 17,
   "id": "3f837e0e",
   "metadata": {},
   "outputs": [],
   "source": [
    "import pandas as pd\n",
    "import numpy as np\n",
    "\n",
    "import pyarrow\n",
    "import fastparquet\n",
    "\n",
    "from sklearn.impute import SimpleImputer\n",
    "\n",
    "import matplotlib.pyplot as plt\n",
    "\n",
    "#from lightgbm import LGBMClassifier\n",
    "from sklearn.ensemble import RandomForestClassifier\n",
    "\n",
    "from sklearn.model_selection import RandomizedSearchCV\n",
    "# from sklearn.model_selection import GridSearchCV\n",
    "from sklearn.model_selection import train_test_split\n",
    "\n",
    "from sklearn.metrics import confusion_matrix, ConfusionMatrixDisplay, f1_score, classification_report, accuracy_score, recall_score, precision_score, roc_auc_score\n",
    "\n",
    "# for saving model to disk\n",
    "import time\n",
    "from skops.io import dump, load, get_untrusted_types"
   ]
  },
  {
   "cell_type": "markdown",
   "id": "41d08ce0",
   "metadata": {},
   "source": [
    "## Run data cleaning script, generate parquet files. \n",
    "Requires pyarrow and fastparquet (see requirements.txt)"
   ]
  },
  {
   "cell_type": "code",
   "execution_count": 2,
   "id": "65ce6952",
   "metadata": {},
   "outputs": [],
   "source": [
    "# Open and run **ETL_export_parquet_invoice-level_+_client-level_mean.py**"
   ]
  },
  {
   "cell_type": "markdown",
   "id": "fc2e950e",
   "metadata": {},
   "source": [
    "## Import parquet files"
   ]
  },
  {
   "cell_type": "code",
   "execution_count": 32,
   "id": "3fff6d41",
   "metadata": {},
   "outputs": [],
   "source": [
    "# Import clean data \n",
    "# - Each row represents one invoice.\n",
    "df_train_non_agg = pd.read_parquet(\"data/df_train_non_agg.parquet\")\n",
    "df_final_test_non_agg = pd.read_parquet(\"data/df_final_test_non_agg.parquet\") # this is not our \"test\" data, we will still need to perform the test-train split\n",
    "\n",
    "# Import clean data\n",
    "# - Each row represents one client. \n",
    "# - Invoices are summarised. \n",
    "# - The \"consommation_level_x\" columns show mean energy consumption per client.\n",
    "df_train_agg = pd.read_parquet(\"data/df_train_no_dummies_agg.parquet\")\n",
    "df_final_test_agg = pd.read_parquet(\"data/df_final_test_no_dummies_agg.parquet\") # this is not our \"test\" data, we will still need to perform the test-train split"
   ]
  },
  {
   "cell_type": "code",
   "execution_count": 33,
   "id": "f8199a3a",
   "metadata": {},
   "outputs": [],
   "source": [
    "# Choose dataset to use in this document\n",
    "df = df_train_agg\n",
    "df_final_test = df_final_test_agg"
   ]
  },
  {
   "cell_type": "code",
   "execution_count": 34,
   "id": "bc0da84c",
   "metadata": {},
   "outputs": [
    {
     "data": {
      "application/vnd.microsoft.datawrangler.viewer.v0+json": {
       "columns": [
        {
         "name": "index",
         "rawType": "int64",
         "type": "integer"
        },
        {
         "name": "disrict",
         "rawType": "object",
         "type": "string"
        },
        {
         "name": "client_catg",
         "rawType": "object",
         "type": "string"
        },
        {
         "name": "region",
         "rawType": "object",
         "type": "string"
        },
        {
         "name": "creation_date",
         "rawType": "int64",
         "type": "integer"
        },
        {
         "name": "target",
         "rawType": "int32",
         "type": "integer"
        },
        {
         "name": "transactions_count",
         "rawType": "int64",
         "type": "integer"
        },
        {
         "name": "tarif_type",
         "rawType": "object",
         "type": "string"
        },
        {
         "name": "counter_statue",
         "rawType": "int32",
         "type": "integer"
        },
        {
         "name": "counter_code",
         "rawType": "object",
         "type": "string"
        },
        {
         "name": "reading_remarque",
         "rawType": "int32",
         "type": "integer"
        },
        {
         "name": "counter_coefficient",
         "rawType": "float64",
         "type": "float"
        },
        {
         "name": "consommation_level_1",
         "rawType": "float64",
         "type": "float"
        },
        {
         "name": "consommation_level_2",
         "rawType": "float64",
         "type": "float"
        },
        {
         "name": "consommation_level_3",
         "rawType": "float64",
         "type": "float"
        },
        {
         "name": "consommation_level_4",
         "rawType": "float64",
         "type": "float"
        },
        {
         "name": "counter_type_GAZ",
         "rawType": "bool",
         "type": "boolean"
        },
        {
         "name": "counter_type_ELEC",
         "rawType": "bool",
         "type": "boolean"
        }
       ],
       "conversionMethod": "pd.DataFrame",
       "ref": "179c41b8-04b0-4710-b9c4-9df1efcc6450",
       "rows": [
        [
         "0",
         "60",
         "11",
         "101",
         "34699",
         "0",
         "35",
         "11",
         "0",
         "203",
         "9",
         "1.0",
         "352.4",
         "10.571428571428571",
         "0.0",
         "0.0",
         "False",
         "True"
        ],
        [
         "1",
         "69",
         "11",
         "107",
         "37405",
         "0",
         "37",
         "11",
         "0",
         "203",
         "9",
         "1.0",
         "557.5405405405405",
         "0.0",
         "0.0",
         "0.0",
         "False",
         "True"
        ],
        [
         "2",
         "62",
         "11",
         "301",
         "31484",
         "0",
         "18",
         "11",
         "0",
         "203",
         "9",
         "1.0",
         "798.6111111111111",
         "37.888888888888886",
         "0.0",
         "0.0",
         "False",
         "True"
        ],
        [
         "3",
         "69",
         "11",
         "105",
         "35257",
         "0",
         "20",
         "11",
         "0",
         "413",
         "9",
         "1.0",
         "1.2",
         "0.0",
         "0.0",
         "0.0",
         "False",
         "True"
        ],
        [
         "4",
         "62",
         "11",
         "303",
         "41926",
         "0",
         "14",
         "11",
         "0",
         "207",
         "9",
         "1.0",
         "663.7142857142857",
         "104.85714285714286",
         "117.35714285714286",
         "36.714285714285715",
         "False",
         "True"
        ]
       ],
       "shape": {
        "columns": 17,
        "rows": 5
       }
      },
      "text/html": [
       "<div>\n",
       "<style scoped>\n",
       "    .dataframe tbody tr th:only-of-type {\n",
       "        vertical-align: middle;\n",
       "    }\n",
       "\n",
       "    .dataframe tbody tr th {\n",
       "        vertical-align: top;\n",
       "    }\n",
       "\n",
       "    .dataframe thead th {\n",
       "        text-align: right;\n",
       "    }\n",
       "</style>\n",
       "<table border=\"1\" class=\"dataframe\">\n",
       "  <thead>\n",
       "    <tr style=\"text-align: right;\">\n",
       "      <th></th>\n",
       "      <th>disrict</th>\n",
       "      <th>client_catg</th>\n",
       "      <th>region</th>\n",
       "      <th>creation_date</th>\n",
       "      <th>target</th>\n",
       "      <th>transactions_count</th>\n",
       "      <th>tarif_type</th>\n",
       "      <th>counter_statue</th>\n",
       "      <th>counter_code</th>\n",
       "      <th>reading_remarque</th>\n",
       "      <th>counter_coefficient</th>\n",
       "      <th>consommation_level_1</th>\n",
       "      <th>consommation_level_2</th>\n",
       "      <th>consommation_level_3</th>\n",
       "      <th>consommation_level_4</th>\n",
       "      <th>counter_type_GAZ</th>\n",
       "      <th>counter_type_ELEC</th>\n",
       "    </tr>\n",
       "  </thead>\n",
       "  <tbody>\n",
       "    <tr>\n",
       "      <th>0</th>\n",
       "      <td>60</td>\n",
       "      <td>11</td>\n",
       "      <td>101</td>\n",
       "      <td>34699</td>\n",
       "      <td>0</td>\n",
       "      <td>35</td>\n",
       "      <td>11</td>\n",
       "      <td>0</td>\n",
       "      <td>203</td>\n",
       "      <td>9</td>\n",
       "      <td>1.0</td>\n",
       "      <td>352.400000</td>\n",
       "      <td>10.571429</td>\n",
       "      <td>0.000000</td>\n",
       "      <td>0.000000</td>\n",
       "      <td>False</td>\n",
       "      <td>True</td>\n",
       "    </tr>\n",
       "    <tr>\n",
       "      <th>1</th>\n",
       "      <td>69</td>\n",
       "      <td>11</td>\n",
       "      <td>107</td>\n",
       "      <td>37405</td>\n",
       "      <td>0</td>\n",
       "      <td>37</td>\n",
       "      <td>11</td>\n",
       "      <td>0</td>\n",
       "      <td>203</td>\n",
       "      <td>9</td>\n",
       "      <td>1.0</td>\n",
       "      <td>557.540541</td>\n",
       "      <td>0.000000</td>\n",
       "      <td>0.000000</td>\n",
       "      <td>0.000000</td>\n",
       "      <td>False</td>\n",
       "      <td>True</td>\n",
       "    </tr>\n",
       "    <tr>\n",
       "      <th>2</th>\n",
       "      <td>62</td>\n",
       "      <td>11</td>\n",
       "      <td>301</td>\n",
       "      <td>31484</td>\n",
       "      <td>0</td>\n",
       "      <td>18</td>\n",
       "      <td>11</td>\n",
       "      <td>0</td>\n",
       "      <td>203</td>\n",
       "      <td>9</td>\n",
       "      <td>1.0</td>\n",
       "      <td>798.611111</td>\n",
       "      <td>37.888889</td>\n",
       "      <td>0.000000</td>\n",
       "      <td>0.000000</td>\n",
       "      <td>False</td>\n",
       "      <td>True</td>\n",
       "    </tr>\n",
       "    <tr>\n",
       "      <th>3</th>\n",
       "      <td>69</td>\n",
       "      <td>11</td>\n",
       "      <td>105</td>\n",
       "      <td>35257</td>\n",
       "      <td>0</td>\n",
       "      <td>20</td>\n",
       "      <td>11</td>\n",
       "      <td>0</td>\n",
       "      <td>413</td>\n",
       "      <td>9</td>\n",
       "      <td>1.0</td>\n",
       "      <td>1.200000</td>\n",
       "      <td>0.000000</td>\n",
       "      <td>0.000000</td>\n",
       "      <td>0.000000</td>\n",
       "      <td>False</td>\n",
       "      <td>True</td>\n",
       "    </tr>\n",
       "    <tr>\n",
       "      <th>4</th>\n",
       "      <td>62</td>\n",
       "      <td>11</td>\n",
       "      <td>303</td>\n",
       "      <td>41926</td>\n",
       "      <td>0</td>\n",
       "      <td>14</td>\n",
       "      <td>11</td>\n",
       "      <td>0</td>\n",
       "      <td>207</td>\n",
       "      <td>9</td>\n",
       "      <td>1.0</td>\n",
       "      <td>663.714286</td>\n",
       "      <td>104.857143</td>\n",
       "      <td>117.357143</td>\n",
       "      <td>36.714286</td>\n",
       "      <td>False</td>\n",
       "      <td>True</td>\n",
       "    </tr>\n",
       "  </tbody>\n",
       "</table>\n",
       "</div>"
      ],
      "text/plain": [
       "  disrict client_catg region  creation_date  target  transactions_count   \n",
       "0      60          11    101          34699       0                  35  \\\n",
       "1      69          11    107          37405       0                  37   \n",
       "2      62          11    301          31484       0                  18   \n",
       "3      69          11    105          35257       0                  20   \n",
       "4      62          11    303          41926       0                  14   \n",
       "\n",
       "  tarif_type  counter_statue counter_code  reading_remarque   \n",
       "0         11               0          203                 9  \\\n",
       "1         11               0          203                 9   \n",
       "2         11               0          203                 9   \n",
       "3         11               0          413                 9   \n",
       "4         11               0          207                 9   \n",
       "\n",
       "   counter_coefficient  consommation_level_1  consommation_level_2   \n",
       "0                  1.0            352.400000             10.571429  \\\n",
       "1                  1.0            557.540541              0.000000   \n",
       "2                  1.0            798.611111             37.888889   \n",
       "3                  1.0              1.200000              0.000000   \n",
       "4                  1.0            663.714286            104.857143   \n",
       "\n",
       "   consommation_level_3  consommation_level_4  counter_type_GAZ   \n",
       "0              0.000000              0.000000             False  \\\n",
       "1              0.000000              0.000000             False   \n",
       "2              0.000000              0.000000             False   \n",
       "3              0.000000              0.000000             False   \n",
       "4            117.357143             36.714286             False   \n",
       "\n",
       "   counter_type_ELEC  \n",
       "0               True  \n",
       "1               True  \n",
       "2               True  \n",
       "3               True  \n",
       "4               True  "
      ]
     },
     "execution_count": 34,
     "metadata": {},
     "output_type": "execute_result"
    }
   ],
   "source": [
    "df.head()"
   ]
  },
  {
   "cell_type": "code",
   "execution_count": 35,
   "id": "e66b687a",
   "metadata": {},
   "outputs": [
    {
     "name": "stdout",
     "output_type": "stream",
     "text": [
      "<class 'pandas.core.frame.DataFrame'>\n",
      "RangeIndex: 128000 entries, 0 to 127999\n",
      "Data columns (total 17 columns):\n",
      " #   Column                Non-Null Count   Dtype  \n",
      "---  ------                --------------   -----  \n",
      " 0   disrict               128000 non-null  object \n",
      " 1   client_catg           128000 non-null  object \n",
      " 2   region                128000 non-null  object \n",
      " 3   creation_date         128000 non-null  int64  \n",
      " 4   target                128000 non-null  int32  \n",
      " 5   transactions_count    128000 non-null  int64  \n",
      " 6   tarif_type            128000 non-null  object \n",
      " 7   counter_statue        128000 non-null  int32  \n",
      " 8   counter_code          128000 non-null  object \n",
      " 9   reading_remarque      128000 non-null  int32  \n",
      " 10  counter_coefficient   128000 non-null  float64\n",
      " 11  consommation_level_1  128000 non-null  float64\n",
      " 12  consommation_level_2  128000 non-null  float64\n",
      " 13  consommation_level_3  128000 non-null  float64\n",
      " 14  consommation_level_4  128000 non-null  float64\n",
      " 15  counter_type_GAZ      128000 non-null  bool   \n",
      " 16  counter_type_ELEC     128000 non-null  bool   \n",
      "dtypes: bool(2), float64(5), int32(3), int64(2), object(5)\n",
      "memory usage: 13.4+ MB\n"
     ]
    }
   ],
   "source": [
    "df.info()"
   ]
  },
  {
   "cell_type": "markdown",
   "id": "e203e296",
   "metadata": {},
   "source": [
    "## Split Data to Train and Test"
   ]
  },
  {
   "cell_type": "code",
   "execution_count": 36,
   "id": "2423b0d1",
   "metadata": {},
   "outputs": [
    {
     "name": "stdout",
     "output_type": "stream",
     "text": [
      "Adding new cols to final_test: set()\n"
     ]
    }
   ],
   "source": [
    "# Make sure final_test has same dummy columns in as training data (filled with False)\n",
    "def add_missing_dummy_columns_and_fill_false(train, final_test): \n",
    "\n",
    "    cols_missing_from_final_test = (set(train) - set(final_test)) - set(['target'])\n",
    "\n",
    "    for cols in cols_missing_from_final_test:   \n",
    "        final_test[cols] = False\n",
    "    print(f\"Adding new cols to final_test: {cols_missing_from_final_test}\")\n",
    "\n",
    "add_missing_dummy_columns_and_fill_false(df, df_final_test)"
   ]
  },
  {
   "cell_type": "code",
   "execution_count": 37,
   "id": "c71bd954",
   "metadata": {},
   "outputs": [],
   "source": [
    "X = df.loc[:, ~df.columns.isin([\"target\"])]\n",
    "y = df[\"target\"]\n",
    "X_final_test = df_final_test\n",
    "\n",
    "# make sure column order the same in X and X_final_test\n",
    "X, X_final_test = X.align(X_final_test, join=\"right\", axis=1)\n",
    "\n",
    "RSEED = 42\n",
    "\n",
    "# 30% examples in test data\n",
    "X_train, X_test, y_train, y_test = train_test_split(\n",
    "    X, y, stratify=y, test_size=0.3, random_state=RSEED\n",
    ")\n"
   ]
  },
  {
   "cell_type": "markdown",
   "id": "a27c3efe",
   "metadata": {},
   "source": [
    "## Imputing missing values"
   ]
  },
  {
   "cell_type": "code",
   "execution_count": 38,
   "id": "da5136af",
   "metadata": {},
   "outputs": [
    {
     "data": {
      "text/plain": [
       "disrict                 0.0\n",
       "reading_remarque        0.0\n",
       "counter_type_GAZ        0.0\n",
       "consommation_level_4    0.0\n",
       "consommation_level_3    0.0\n",
       "consommation_level_2    0.0\n",
       "consommation_level_1    0.0\n",
       "counter_coefficient     0.0\n",
       "counter_code            0.0\n",
       "client_catg             0.0\n",
       "counter_statue          0.0\n",
       "tarif_type              0.0\n",
       "transactions_count      0.0\n",
       "target                  0.0\n",
       "creation_date           0.0\n",
       "region                  0.0\n",
       "counter_type_ELEC       0.0\n",
       "dtype: float64"
      ]
     },
     "execution_count": 38,
     "metadata": {},
     "output_type": "execute_result"
    }
   ],
   "source": [
    "# % of missing values for each column in Training data\n",
    "(100 * df.isnull().sum() / df.count()).sort_values(ascending=False)"
   ]
  },
  {
   "cell_type": "code",
   "execution_count": 39,
   "id": "23f427bf",
   "metadata": {},
   "outputs": [
    {
     "data": {
      "text/plain": [
       "disrict                 0.0\n",
       "client_catg             0.0\n",
       "region                  0.0\n",
       "creation_date           0.0\n",
       "transactions_count      0.0\n",
       "tarif_type              0.0\n",
       "counter_statue          0.0\n",
       "counter_code            0.0\n",
       "reading_remarque        0.0\n",
       "counter_coefficient     0.0\n",
       "consommation_level_1    0.0\n",
       "consommation_level_2    0.0\n",
       "consommation_level_3    0.0\n",
       "consommation_level_4    0.0\n",
       "counter_type_GAZ        0.0\n",
       "counter_type_ELEC       0.0\n",
       "dtype: float64"
      ]
     },
     "execution_count": 39,
     "metadata": {},
     "output_type": "execute_result"
    }
   ],
   "source": [
    "# % of missing values for each column in the final test data. Compare with training data above to see if similar proportion.\n",
    "(100 * df_final_test.isnull().sum() / df_final_test.count()).sort_values(ascending=False)"
   ]
  },
  {
   "cell_type": "code",
   "execution_count": 40,
   "id": "b0af74be",
   "metadata": {},
   "outputs": [],
   "source": [
    "# What does the data look like for rows with missing data\n",
    "df_missing_values = df[pd.isnull(df[\"transactions_count\"]) == True]"
   ]
  },
  {
   "cell_type": "code",
   "execution_count": 43,
   "id": "adbab650",
   "metadata": {},
   "outputs": [
    {
     "name": "stdout",
     "output_type": "stream",
     "text": [
      "<class 'pandas.core.frame.DataFrame'>\n",
      "Index: 89600 entries, 75397 to 41056\n",
      "Data columns (total 16 columns):\n",
      " #   Column                Non-Null Count  Dtype  \n",
      "---  ------                --------------  -----  \n",
      " 0   disrict               89600 non-null  object \n",
      " 1   client_catg           89600 non-null  object \n",
      " 2   region                89600 non-null  object \n",
      " 3   creation_date         89600 non-null  int64  \n",
      " 4   transactions_count    89600 non-null  int64  \n",
      " 5   tarif_type            89600 non-null  object \n",
      " 6   counter_statue        89600 non-null  int32  \n",
      " 7   counter_code          89600 non-null  object \n",
      " 8   reading_remarque      89600 non-null  int32  \n",
      " 9   counter_coefficient   89600 non-null  float64\n",
      " 10  consommation_level_1  89600 non-null  float64\n",
      " 11  consommation_level_2  89600 non-null  float64\n",
      " 12  consommation_level_3  89600 non-null  float64\n",
      " 13  consommation_level_4  89600 non-null  float64\n",
      " 14  counter_type_GAZ      89600 non-null  bool   \n",
      " 15  counter_type_ELEC     89600 non-null  bool   \n",
      "dtypes: bool(2), float64(5), int32(2), int64(2), object(5)\n",
      "memory usage: 9.7+ MB\n"
     ]
    }
   ],
   "source": [
    "X_train.info()"
   ]
  },
  {
   "cell_type": "code",
   "execution_count": 42,
   "id": "ed6a66a3",
   "metadata": {},
   "outputs": [],
   "source": [
    "from imblearn.under_sampling import RandomUnderSampler\n",
    "from imblearn.over_sampling import RandomOverSampler\n",
    "\n",
    "ros = RandomOverSampler(random_state=42)\n",
    "rus = RandomUnderSampler(random_state=42)\n",
    "X_train_resampled, y_train_resampled = ros.fit_resample(X_train,y_train)"
   ]
  },
  {
   "cell_type": "code",
   "execution_count": 54,
   "id": "0aab91c4",
   "metadata": {},
   "outputs": [],
   "source": [
    "# Convert boolean columns to integers\n",
    "X_train_resampled[\"counter_type_GAZ\"] = X_train_resampled[\"counter_type_GAZ\"].astype(int)\n",
    "X_train_resampled[\"counter_type_ELEC\"] = X_train_resampled[\"counter_type_ELEC\"].astype(int)\n",
    "\n",
    "X_test[\"counter_type_GAZ\"] = X_test[\"counter_type_GAZ\"].astype(int)\n",
    "X_test[\"counter_type_ELEC\"] = X_test[\"counter_type_ELEC\"].astype(int)"
   ]
  },
  {
   "cell_type": "code",
   "execution_count": 69,
   "id": "559dcac1",
   "metadata": {},
   "outputs": [
    {
     "data": {
      "text/plain": [
       "array([1, 0])"
      ]
     },
     "execution_count": 69,
     "metadata": {},
     "output_type": "execute_result"
    }
   ],
   "source": [
    "X_train_resampled.counter_type_ELEC.unique()\n",
    "\n",
    " "
   ]
  },
  {
   "cell_type": "code",
   "execution_count": 56,
   "id": "74faa2d3",
   "metadata": {},
   "outputs": [],
   "source": [
    "# Pipeline\n",
    "\n",
    "cat_features = [\"disrict\",\n",
    "        \"client_catg\",\n",
    "        \"region\",\n",
    "        \"tarif_type\",\n",
    "        \"reading_remarque\",\n",
    "        \"counter_statue\",\n",
    "        \"counter_code\",\n",
    "        \"counter_type_GAZ\",\n",
    "        \"counter_type_ELEC\"\n",
    "        ]\n",
    "num_features = [\"creation_date\",\n",
    "        \"transactions_count\",\n",
    "        \"counter_coefficient\",\n",
    "        \"consommation_level_1\",\n",
    "        \"consommation_level_2\",\n",
    "        \"consommation_level_3\",\n",
    "        \"consommation_level_4\"\n",
    "            ]\n",
    "\n",
    "from sklearn.pipeline import Pipeline\n",
    "\n",
    "# Pipeline for numerical features\n",
    "# Initiating Pipeline and calling one step after another\n",
    "# each step is built as a list of (key, value)\n",
    "# key is the name of the processing step\n",
    "# value is an estimator object (processing step)\n",
    "num_pipeline = Pipeline([\n",
    "    ('imputer_num', SimpleImputer(missing_values=np.nan, strategy='mean')), # replace 0s with means \n",
    "   # ('std_scaler', StandardScaler())\n",
    "])\n",
    "\n",
    "# Pipeline for categorical features \n",
    "cat_pipeline = Pipeline([\n",
    "    ('imputer_cat', SimpleImputer(strategy='constant', fill_value='missing')),\n",
    "   # ('1hot', OneHotEncoder(handle_unknown='ignore'))\n",
    "])\n",
    "\n",
    "from sklearn.compose import ColumnTransformer\n",
    "\n",
    "# Complete pipeline for numerical and categorical features\n",
    "# 'ColumnTransformer' applies transformers (num_pipeline/ cat_pipeline)\n",
    "# to specific columns of an array or DataFrame (num_features/cat_features)\n",
    "preprocessor = ColumnTransformer([\n",
    "    ('num', num_pipeline, num_features),\n",
    "    ('cat', cat_pipeline, cat_features)\n",
    "])"
   ]
  },
  {
   "cell_type": "markdown",
   "id": "992c60e8",
   "metadata": {},
   "source": [
    "# Train Model"
   ]
  },
  {
   "cell_type": "code",
   "execution_count": 71,
   "id": "64432748",
   "metadata": {},
   "outputs": [
    {
     "name": "stdout",
     "output_type": "stream",
     "text": [
      "Fitting 5 folds for each of 162 candidates, totalling 810 fits\n"
     ]
    },
    {
     "name": "stderr",
     "output_type": "stream",
     "text": [
      "c:\\Users\\MaxTs\\neuefische\\Projects\\ds-fraud-detection\\.venv\\Lib\\site-packages\\sklearn\\model_selection\\_validation.py:528: FitFailedWarning: \n",
      "405 fits failed out of a total of 810.\n",
      "The score on these train-test partitions for these parameters will be set to nan.\n",
      "If these failures are not expected, you can try to debug them by setting error_score='raise'.\n",
      "\n",
      "Below are more details about the failures:\n",
      "--------------------------------------------------------------------------------\n",
      "405 fits failed with the following error:\n",
      "Traceback (most recent call last):\n",
      "  File \"c:\\Users\\MaxTs\\neuefische\\Projects\\ds-fraud-detection\\.venv\\Lib\\site-packages\\sklearn\\model_selection\\_validation.py\", line 866, in _fit_and_score\n",
      "    estimator.fit(X_train, y_train, **fit_params)\n",
      "  File \"c:\\Users\\MaxTs\\neuefische\\Projects\\ds-fraud-detection\\.venv\\Lib\\site-packages\\catboost\\core.py\", line 5245, in fit\n",
      "    self._fit(X, y, cat_features, text_features, embedding_features, None, graph, sample_weight, None, None, None, None, baseline, use_best_model,\n",
      "  File \"c:\\Users\\MaxTs\\neuefische\\Projects\\ds-fraud-detection\\.venv\\Lib\\site-packages\\catboost\\core.py\", line 2395, in _fit\n",
      "    train_params = self._prepare_train_params(\n",
      "                   ^^^^^^^^^^^^^^^^^^^^^^^^^^^\n",
      "  File \"c:\\Users\\MaxTs\\neuefische\\Projects\\ds-fraud-detection\\.venv\\Lib\\site-packages\\catboost\\core.py\", line 2321, in _prepare_train_params\n",
      "    _check_train_params(params)\n",
      "  File \"_catboost.pyx\", line 6601, in _catboost._check_train_params\n",
      "  File \"_catboost.pyx\", line 6623, in _catboost._check_train_params\n",
      "_catboost.CatBoostError: catboost/private/libs/options/json_helper.h:41: Can't parse parameter \"class_weights\" with value: null\n",
      "\n",
      "  warnings.warn(some_fits_failed_message, FitFailedWarning)\n",
      "c:\\Users\\MaxTs\\neuefische\\Projects\\ds-fraud-detection\\.venv\\Lib\\site-packages\\sklearn\\model_selection\\_search.py:1108: UserWarning: One or more of the test scores are non-finite: [       nan        nan        nan        nan        nan        nan\n",
      "        nan        nan        nan        nan        nan        nan\n",
      "        nan        nan        nan        nan        nan        nan\n",
      "        nan        nan        nan        nan        nan        nan\n",
      "        nan        nan        nan        nan        nan        nan\n",
      "        nan        nan        nan        nan        nan        nan\n",
      "        nan        nan        nan        nan        nan        nan\n",
      "        nan        nan        nan        nan        nan        nan\n",
      "        nan        nan        nan        nan        nan        nan\n",
      "        nan        nan        nan        nan        nan        nan\n",
      "        nan        nan        nan        nan        nan        nan\n",
      "        nan        nan        nan        nan        nan        nan\n",
      "        nan        nan        nan        nan        nan        nan\n",
      "        nan        nan        nan 0.70231169 0.72071506 0.72906468\n",
      " 0.7022368  0.72019191 0.72821098 0.70222415 0.72086157 0.7265634\n",
      " 0.70820725 0.73721409 0.75016571 0.70758456 0.73679531 0.74943103\n",
      " 0.70819854 0.7368029  0.74887871 0.7128312  0.74515155 0.75921184\n",
      " 0.71250885 0.74412856 0.75859171 0.71270067 0.7442999  0.75772385\n",
      " 0.70352689 0.7293719  0.74289413 0.70349392 0.72878022 0.73990532\n",
      " 0.70337994 0.72803278 0.73762473 0.71603741 0.75838226 0.78121547\n",
      " 0.71543269 0.75699727 0.77729844 0.71524025 0.75530633 0.77692612\n",
      " 0.72075947 0.77168154 0.79749545 0.72001653 0.76891382 0.79325862\n",
      " 0.72044995 0.7667673  0.79231043 0.70601206 0.74317194 0.76169942\n",
      " 0.70571495 0.73886407 0.75344428 0.70545288 0.7382852  0.74979049\n",
      " 0.72427541 0.78850818 0.8233442  0.72384425 0.78422179 0.81534466\n",
      " 0.72375272 0.78245159 0.81188206 0.73097106 0.8072315  0.84731588\n",
      " 0.73008731 0.80167406 0.83787457 0.73001026 0.79917754 0.83100791]\n",
      "  warnings.warn(\n"
     ]
    },
    {
     "name": "stdout",
     "output_type": "stream",
     "text": [
      "Best Parameters: {'class_weights': [1, 3], 'depth': 8, 'iterations': 300, 'l2_leaf_reg': 1, 'learning_rate': 0.2}\n",
      "Best F1 Score: 0.8473158834235063\n"
     ]
    }
   ],
   "source": [
    "from sklearn.compose import ColumnTransformer\n",
    "from sklearn.preprocessing import OneHotEncoder\n",
    "from sklearn.impute import SimpleImputer\n",
    "from sklearn.pipeline import Pipeline\n",
    "from catboost import CatBoostClassifier\n",
    "from sklearn.model_selection import GridSearchCV\n",
    "\n",
    "# Define categorical and numerical features\n",
    "cat_features = [\n",
    "    \"disrict\",\n",
    "    \"client_catg\",\n",
    "    \"region\",\n",
    "    \"tarif_type\",\n",
    "    \"reading_remarque\",\n",
    "    \"counter_statue\",\n",
    "    \"counter_code\",\n",
    "    \"counter_type_GAZ\",\n",
    "    \"counter_type_ELEC\"\n",
    "]\n",
    "num_features = [\n",
    "    \"creation_date\",\n",
    "    \"transactions_count\",\n",
    "    \"counter_coefficient\",\n",
    "    \"consommation_level_1\",\n",
    "    \"consommation_level_2\",\n",
    "    \"consommation_level_3\",\n",
    "    \"consommation_level_4\"\n",
    "]\n",
    "\n",
    "# Preprocess categorical features\n",
    "cat_imputer = SimpleImputer(strategy=\"constant\", fill_value=\"missing\")\n",
    "X_train_resampled[cat_features] = cat_imputer.fit_transform(X_train_resampled[cat_features])\n",
    "X_test[cat_features] = cat_imputer.transform(X_test[cat_features])\n",
    "\n",
    "# Convert categorical features to strings\n",
    "for col in cat_features:\n",
    "    X_train_resampled[col] = X_train_resampled[col].astype(str)\n",
    "    X_test[col] = X_test[col].astype(str)\n",
    "\n",
    "# Preprocess numerical features\n",
    "num_imputer = SimpleImputer(strategy=\"mean\")\n",
    "X_train_resampled[num_features] = num_imputer.fit_transform(X_train_resampled[num_features])\n",
    "X_test[num_features] = num_imputer.transform(X_test[num_features])\n",
    "\n",
    "# Combine preprocessed data\n",
    "X_train_preprocessed = X_train_resampled\n",
    "X_test_preprocessed = X_test\n",
    "\n",
    "# Initialize CatBoostClassifier\n",
    "catboost_model = CatBoostClassifier(cat_features=cat_features, verbose=0)\n",
    "\n",
    "# Define the parameter grid for GridSearchCV\n",
    "param_grid = {\n",
    "    'iterations': [100, 200, 300],  # Number of boosting iterations\n",
    "    'depth': [4, 6, 8],  # Depth of the trees\n",
    "    'learning_rate': [0.01, 0.1, 0.2],  # Learning rate\n",
    "    'l2_leaf_reg': [1, 3, 5],  # L2 regularization\n",
    "    'class_weights': [None, [1, 3]]  # Class weights for imbalanced data\n",
    "}\n",
    "\n",
    "# Set up GridSearchCV\n",
    "grid_search = GridSearchCV(\n",
    "    catboost_model,\n",
    "    param_grid,\n",
    "    cv=5,  # 5-fold cross-validation\n",
    "    scoring='f1',  # Optimize for F1 score\n",
    "    n_jobs=-1,  # Use all available cores\n",
    "    verbose=2  # Print progress\n",
    ")\n",
    "\n",
    "# Fit GridSearchCV\n",
    "grid_search.fit(X_train_preprocessed, y_train_resampled)\n",
    "\n",
    "# Print the best parameters and the best score\n",
    "print(\"Best Parameters:\", grid_search.best_params_)\n",
    "print(\"Best F1 Score:\", grid_search.best_score_)\n",
    "\n",
    "# Use the best model to make predictions\n",
    "best_model = grid_search.best_estimator_\n",
    "y_train_predict = best_model.predict(X_train_preprocessed)\n",
    "y_test_predict = best_model.predict(X_test_preprocessed)"
   ]
  },
  {
   "cell_type": "markdown",
   "id": "b05c4e41",
   "metadata": {},
   "source": [
    "Best Parameters: {'class_weights': [1, 3], 'depth': 8, 'iterations': 300, 'l2_leaf_reg': 1, 'learning_rate': 0.2}\n",
    "\n",
    "Best F1 Score: 0.8473158834235063"
   ]
  },
  {
   "cell_type": "markdown",
   "id": "21361dd8",
   "metadata": {},
   "source": [
    "## Metrics for Best Model"
   ]
  },
  {
   "cell_type": "code",
   "execution_count": 72,
   "id": "b3ce7fc8",
   "metadata": {},
   "outputs": [
    {
     "name": "stdout",
     "output_type": "stream",
     "text": [
      "Accuracy: 0.84\n",
      "Precision: 0.76\n",
      "Recall: 1.00\n",
      "F1 Score: 0.86\n"
     ]
    },
    {
     "data": {
      "image/png": "[encoded data removed]",
      "text/plain": [
       "<Figure size 640x480 with 2 Axes>"
      ]
     },
     "metadata": {},
     "output_type": "display_data"
    }
   ],
   "source": [
    "# Calculate metrics\n",
    "accuracy = accuracy_score(y_train_resampled, y_train_predict)\n",
    "precision = precision_score(y_train_resampled, y_train_predict)\n",
    "recall = recall_score(y_train_resampled, y_train_predict)\n",
    "f1 = f1_score(y_train_resampled, y_train_predict)\n",
    "\n",
    "\n",
    "# Print the metrics\n",
    "print(f\"Accuracy: {accuracy:.2f}\")\n",
    "print(f\"Precision: {precision:.2f}\")\n",
    "print(f\"Recall: {recall:.2f}\")\n",
    "print(f\"F1 Score: {f1:.2f}\")\n",
    "# Generate the confusion matrix\n",
    "cm = confusion_matrix(y_train_resampled, y_train_predict, normalize='all')\n",
    "\n",
    "# Plot the confusion matrix\n",
    "disp = ConfusionMatrixDisplay(confusion_matrix=cm, display_labels=['Legit', 'Fraud'])\n",
    "disp.plot(cmap='Blues')\n",
    "plt.title('Logistic Regression Training Model Confusion Matrix')\n",
    "plt.show()"
   ]
  },
  {
   "cell_type": "code",
   "execution_count": 73,
   "id": "68af9e03",
   "metadata": {},
   "outputs": [
    {
     "name": "stdout",
     "output_type": "stream",
     "text": [
      "Accuracy: 0.66\n",
      "Precision: 0.11\n",
      "Recall: 0.65\n",
      "F1 Score: 0.18\n"
     ]
    },
    {
     "data": {
      "image/png": "[encoded data removed]",
      "text/plain": [
       "<Figure size 640x480 with 2 Axes>"
      ]
     },
     "metadata": {},
     "output_type": "display_data"
    }
   ],
   "source": [
    "# Calculate metrics\n",
    "accuracy = accuracy_score(y_test, y_test_predict)\n",
    "precision = precision_score(y_test, y_test_predict)\n",
    "recall = recall_score(y_test, y_test_predict)\n",
    "f1 = f1_score(y_test, y_test_predict)\n",
    "\n",
    "\n",
    "# Print the metrics\n",
    "print(f\"Accuracy: {accuracy:.2f}\")\n",
    "print(f\"Precision: {precision:.2f}\")\n",
    "print(f\"Recall: {recall:.2f}\")\n",
    "print(f\"F1 Score: {f1:.2f}\")\n",
    "# Generate the confusion matrix\n",
    "cm = confusion_matrix(y_test, y_test_predict, normalize='all')\n",
    "\n",
    "# Plot the confusion matrix\n",
    "disp = ConfusionMatrixDisplay(confusion_matrix=cm, display_labels=['Legit', 'Fraud'])\n",
    "disp.plot(cmap='Blues')\n",
    "plt.title('Logistic Regression Test Model Confusion Matrix')\n",
    "plt.show()"
   ]
  },
  {
   "cell_type": "markdown",
   "id": "9c73de0c",
   "metadata": {},
   "source": [
    "# Save best model for future use"
   ]
  },
  {
   "cell_type": "code",
   "execution_count": 74,
   "id": "97ed8778",
   "metadata": {},
   "outputs": [],
   "source": [
    "# https://scikit-learn.org/stable/model_persistence.html#skops-persistence\n",
    "\n",
    "timestamp_for_filename = time.strftime(\"%Y-%m %d_%H%M%S\")\n",
    "model_name = \"example_model\"\n",
    "\n",
    "filepath = f\"./models/{model_name} {timestamp_for_filename}.skops\"\n",
    "\n",
    "obj = dump(best_model, filepath)\n"
   ]
  }
 ],
 "metadata": {
  "kernelspec": {
   "display_name": ".venv",
   "language": "python",
   "name": "python3"
  },
  "language_info": {
   "codemirror_mode": {
    "name": "ipython",
    "version": 3
   },
   "file_extension": ".py",
   "mimetype": "text/x-python",
   "name": "python",
   "nbconvert_exporter": "python",
   "pygments_lexer": "ipython3",
   "version": "3.11.3"
  }
 },
 "nbformat": 4,
 "nbformat_minor": 5
}
