{
 "cells": [
  {
   "cell_type": "code",
   "execution_count": 3,
   "id": "dc534c39",
   "metadata": {},
   "outputs": [],
   "source": [
    "import pandas as pd\n",
    "import matplotlib.pyplot as plt\n",
    "from lightgbm import LGBMClassifier\n",
    "\n",
    "import warnings\n",
    "warnings.simplefilter('ignore')"
   ]
  },
  {
   "cell_type": "code",
   "execution_count": 4,
   "id": "ba7f92d3",
   "metadata": {},
   "outputs": [],
   "source": [
    "client_train = pd.read_csv('data/client_train.csv', low_memory=False)\n",
    "invoice_train = pd.read_csv('data/invoice_train.csv', low_memory=False)\n",
    "\n",
    "client_test = pd.read_csv('data/client_test.csv', low_memory=False)\n",
    "invoice_test = pd.read_csv('data/invoice_test.csv', low_memory=False)"
   ]
  },
  {
   "cell_type": "code",
   "execution_count": 6,
   "id": "c42bde00",
   "metadata": {},
   "outputs": [
    {
     "data": {
      "text/plain": [
       "True"
      ]
     },
     "execution_count": 6,
     "metadata": {},
     "output_type": "execute_result"
    }
   ],
   "source": [
    "tuple(client_train.client_id.unique()) == tuple(invoice_train.client_id.unique())\n"
   ]
  },
  {
   "cell_type": "code",
   "execution_count": 7,
   "id": "0f357435",
   "metadata": {},
   "outputs": [
    {
     "data": {
      "text/plain": [
       "4476749"
      ]
     },
     "execution_count": 7,
     "metadata": {},
     "output_type": "execute_result"
    }
   ],
   "source": [
    "len(invoice_train.client_id)"
   ]
  },
  {
   "cell_type": "code",
   "execution_count": 8,
   "id": "e6cea857",
   "metadata": {},
   "outputs": [
    {
     "data": {
      "text/plain": [
       "135493"
      ]
     },
     "execution_count": 8,
     "metadata": {},
     "output_type": "execute_result"
    }
   ],
   "source": [
    "len(client_train.client_id)"
   ]
  },
  {
   "cell_type": "code",
   "execution_count": 10,
   "id": "a25b99e6",
   "metadata": {},
   "outputs": [],
   "source": [
    "df_train = pd.merge(client_train, invoice_train, how='left', on='client_id')"
   ]
  },
  {
   "cell_type": "code",
   "execution_count": 11,
   "id": "466bfd82",
   "metadata": {},
   "outputs": [
    {
     "data": {
      "text/plain": [
       "4476749"
      ]
     },
     "execution_count": 11,
     "metadata": {},
     "output_type": "execute_result"
    }
   ],
   "source": [
    "len(df_train.client_id)"
   ]
  },
  {
   "cell_type": "code",
   "execution_count": 12,
   "id": "e0eecc4f",
   "metadata": {},
   "outputs": [],
   "source": [
    "fraudulent = df_train[df_train['target'] == 1]"
   ]
  },
  {
   "cell_type": "code",
   "execution_count": null,
   "id": "a04ae38f",
   "metadata": {},
   "outputs": [],
   "source": [
    "fraudulent"
   ]
  },
  {
   "cell_type": "code",
   "execution_count": 15,
   "id": "6b8a3c09",
   "metadata": {},
   "outputs": [
    {
     "data": {
      "text/plain": [
       "110    2015-02-13\n",
       "117    2015-08-06\n",
       "123    2015-08-10\n",
       "119    2016-06-06\n",
       "118    2016-12-02\n",
       "120    2016-12-10\n",
       "112    2017-06-06\n",
       "111    2017-09-02\n",
       "113    2017-11-10\n",
       "115    2018-04-06\n",
       "114    2018-09-02\n",
       "116    2018-11-10\n",
       "121    2019-02-13\n",
       "122    2019-06-17\n",
       "Name: invoice_date, dtype: object"
      ]
     },
     "execution_count": 15,
     "metadata": {},
     "output_type": "execute_result"
    }
   ],
   "source": [
    "check = df_train[df_train['client_id']=='train_Client_1000']\n",
    "check.invoice_date.sort_values()"
   ]
  },
  {
   "cell_type": "code",
   "execution_count": 16,
   "id": "4f777484",
   "metadata": {},
   "outputs": [
    {
     "ename": "ValueError",
     "evalue": "The truth value of a Series is ambiguous. Use a.empty, a.bool(), a.item(), a.any() or a.all().",
     "output_type": "error",
     "traceback": [
      "\u001b[31m---------------------------------------------------------------------------\u001b[39m",
      "\u001b[31mValueError\u001b[39m                                Traceback (most recent call last)",
      "\u001b[32m~\\AppData\\Local\\Temp\\ipykernel_22184\\1798070201.py\u001b[39m in \u001b[36m?\u001b[39m\u001b[34m()\u001b[39m\n\u001b[32m----> \u001b[39m\u001b[32m1\u001b[39m check2 = df_train[df_train[\u001b[33m'counter_type'\u001b[39m] == \u001b[33m'ELEC'\u001b[39m \u001b[38;5;28;01mor\u001b[39;00m df_train[\u001b[33m'counter_type'\u001b[39m] == \u001b[33m'GAZ'\u001b[39m]\n",
      "\u001b[32mc:\\Users\\MaxTs\\neuefische\\Projects\\ds-fraud-detection\\.venv\\Lib\\site-packages\\pandas\\core\\generic.py\u001b[39m in \u001b[36m?\u001b[39m\u001b[34m(self)\u001b[39m\n\u001b[32m   1464\u001b[39m     @final\n\u001b[32m   1465\u001b[39m     \u001b[38;5;28;01mdef\u001b[39;00m __nonzero__(self) -> NoReturn:\n\u001b[32m-> \u001b[39m\u001b[32m1466\u001b[39m         raise ValueError(\n\u001b[32m   1467\u001b[39m             \u001b[33mf\"The truth value of a {type(self).__name__} is ambiguous. \"\u001b[39m\n\u001b[32m   1468\u001b[39m             \u001b[33m\"Use a.empty, a.bool(), a.item(), a.any() or a.all().\"\u001b[39m\n\u001b[32m   1469\u001b[39m         )\n",
      "\u001b[31mValueError\u001b[39m: The truth value of a Series is ambiguous. Use a.empty, a.bool(), a.item(), a.any() or a.all()."
     ]
    }
   ],
   "source": [
    "check2 = df_train[df_train['counter_type'] == 'ELEC' or df_train['counter_type'] == 'GAZ']"
   ]
  }
 ],
 "metadata": {
  "kernelspec": {
   "display_name": ".venv",
   "language": "python",
   "name": "python3"
  },
  "language_info": {
   "codemirror_mode": {
    "name": "ipython",
    "version": 3
   },
   "file_extension": ".py",
   "mimetype": "text/x-python",
   "name": "python",
   "nbconvert_exporter": "python",
   "pygments_lexer": "ipython3",
   "version": "3.11.3"
  }
 },
 "nbformat": 4,
 "nbformat_minor": 5
}
